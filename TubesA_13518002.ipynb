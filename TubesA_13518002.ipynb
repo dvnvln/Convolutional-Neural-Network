{
 "cells": [
  {
   "cell_type": "code",
   "execution_count": null,
   "metadata": {
    "colab": {
     "base_uri": "https://localhost:8080/"
    },
    "id": "92IA9JR9JLqO",
    "outputId": "5ccd3ffc-74c6-43f3-fd10-04c952cbaeff"
   },
   "outputs": [
    {
     "name": "stdout",
     "output_type": "stream",
     "text": [
      "Drive already mounted at /content/drive; to attempt to forcibly remount, call drive.mount(\"/content/drive\", force_remount=True).\n"
     ]
    }
   ],
   "source": [
    "from google.colab import drive\n",
    "drive.mount('/content/drive')"
   ]
  },
  {
   "cell_type": "code",
   "execution_count": null,
   "metadata": {
    "id": "O4OFSx7hlAq_"
   },
   "outputs": [],
   "source": [
    "import math\n",
    "import numpy as np\n",
    "from viznet import connecta2a, node_sequence, NodeBrush, EdgeBrush, DynamicShow\n",
    "\n",
    "class Node():\n",
    "  def __init__(self, precedingNodes, nodeWeights, nodeValue=0):\n",
    "    self.nodeValue = nodeValue #nodeValue is probably 0 for non-initial nodes\n",
    "    self.nodeList = precedingNodes #edgeList length is 0 for initial Nodes\n",
    "    self.nodeWeights = nodeWeights\n",
    "    for i in range(len(nodeWeights)):\n",
    "      self.nodeWeights[i] = int(self.nodeWeights[i])\n",
    "\n",
    "  def setPred(self,x):\n",
    "    self.nodeList = x\n",
    "\n",
    "  def getValue(self, activation):\n",
    "    # print(self)\n",
    "    if self.nodeWeights:\n",
    "      value = self.nodeWeights[-1] # the bias\n",
    "      i = 0\n",
    "      #doesn't iterate if edgeList length is 0\n",
    "      while (i < len(self.nodeList)):\n",
    "        # if multiple calculation methods are involved, \n",
    "        # change edgeList so that it stores the result of\n",
    "        # those methods instead. E.g. [edge_1.getValue(), edge_2.getValue()]\n",
    "        value += (self.nodeList[i].getValue(activation[:-1]) * self.nodeWeights[i])\n",
    "        i = i + 1\n",
    "    else:\n",
    "      value = self.nodeValue\n",
    "    # print(activation[-1])\n",
    "    # print(value)\n",
    "    return activation[-1](value)\n",
    "  \n",
    "  def __repr__(self):\n",
    "    return \",\".join([str(i) for i in self.nodeWeights])\n",
    "  \n",
    "  def __str__(self):\n",
    "    return \",\".join([str(i) for i in self.nodeWeights])\n",
    "\n",
    "# Input layer\n",
    "# # Two starter Nodes \n",
    "# node_1 = Node([], [], 1)\n",
    "# node_2 = Node([], [], 2)\n",
    "# node_22 = Node([], [], 2)\n",
    "\n",
    "# Hidden layer\n",
    "# # Two nodes feed into 3\n",
    "# node_3 = Node([node_1, node_2, node_22], [1, 2, 1])\n",
    "# node_32 = Node([node_1, node_2, node_22], [1, 2, 1])\n",
    "\n",
    "# Output layer\n",
    "# # Node 3 feeds into 4\n",
    "# node_4 = Node([node_3, node_32], [4,1])"
   ]
  },
  {
   "cell_type": "code",
   "execution_count": null,
   "metadata": {
    "id": "srPfbZHk0my-"
   },
   "outputs": [],
   "source": [
    "class FFNN:\n",
    "  def __init__(self):\n",
    "    self.layers = [[]]\n",
    "    self.bias = []\n",
    "    self.activate = ['linear']\n",
    "  \n",
    "  def __repr__(self):\n",
    "    return '\\n'.join(['|'.join([str(x) for x in layer]) for layer in self.layers[:0:-1]])\n",
    "\n",
    "  #FORMAT INPUTNYA\n",
    "  # Baris 1 adalah structure, angka pertama dimensi input, angka terakhir dimensi output, sisanya dimensi hidden layer diantara\n",
    "  # contoh : A B C D, A adalah dimensi input layer, B C dimensi hidden layer 1 dan 2, dan D dimensi output layer\n",
    "  # Lalu diikuti weight berurut dari hidden layer pertama dst sampai output layer, \n",
    "  # jumlah float untuk weight hidden layer 2 adalah A+1 (+1 untuk bias) buah float diulang sebanyak B kali\n",
    "  # contoh :\n",
    "  # 1 2 2 1                                                     # komen di dalam komen\n",
    "  # sigmoid relu relu                                           # activation function\n",
    "  # 1 2                                                         # ini h11, karena input 1 dimensi, + bias jadi 2 buah float\n",
    "  # 2 1                                                         # ini h12\n",
    "  # 2 2 3                                                       # ini h21 karena h1 2 dimensi tambah bias, jadi 3 buah float\n",
    "  # 2 1 2                                                       # ini h22\n",
    "  # 1 2 3                                                       # ini o sama kaya h2, 2 dimensi h2 + bias jadi 3 buah float\n",
    "  def readfile(self, filename):\n",
    "    f = open('/content/drive/MyDrive/Testing/'+filename,'r')\n",
    "    structure = f.readline().split(' ')\n",
    "    for x in f.readline().split(' '):\n",
    "      self.activate.append(x.replace('\\n','')) \n",
    "    for i in range(len(self.activate)):\n",
    "      self.activate[i] = func[self.activate[i]]\n",
    "    for i in range(1,len(structure)):\n",
    "      lay = []\n",
    "      for x in range(int(structure[i])):\n",
    "        arr = f.readline().split(' ')\n",
    "        lay.append(Node(self.layers[-1], arr))\n",
    "      self.layers.append(lay)\n",
    "  \n",
    "  def input(self, inputs):\n",
    "    arr = []\n",
    "    for inp in inputs:\n",
    "      arr.append(Node([],[],inp))\n",
    "    self.layers[0] = arr\n",
    "    for nodes in self.layers[1]:\n",
    "      nodes.setPred(self.layers[0])\n",
    "    \n",
    "\n",
    "  def predict(self):\n",
    "    return [x.getValue(self.activate) for x in self.layers[-1]]\n",
    "  \n",
    "  def predictMultiple(self, arrInput):\n",
    "    for i in arrInput:\n",
    "      self.input(i)\n",
    "      print(f\"{i} => {self.predict()}\")\n",
    "    \n",
    "\n",
    "  def draw_ffnn(self,ax):\n",
    "    num_node_list= []\n",
    "    for i in self.layers:\n",
    "      num_node_list.append(len(i))\n",
    "    print(self.layers)\n",
    "    print(num_node_list)\n",
    "    num_hidden_layer = len(num_node_list) - 2\n",
    "    token_list = ['\\sigma^z'] + \\\n",
    "        ['y^{(%s)}' % (i + 1) for i in range(num_hidden_layer)] + ['\\psi']\n",
    "    kind_list = ['nn.input'] + ['nn.hidden'] * num_hidden_layer + ['nn.output']\n",
    "    radius_list = [0.3] + [0.2] * num_hidden_layer + [0.3]\n",
    "    y_list = 1.5 * np.arange(len(num_node_list))\n",
    "\n",
    "    seq_list = []\n",
    "    for n, kind, radius, y in zip(num_node_list, kind_list, radius_list, y_list):\n",
    "        b = NodeBrush(kind, ax)\n",
    "\n",
    "        seq_list.append(node_sequence(b, n, center=(0, y)))\n",
    "\n",
    "    eb = EdgeBrush('-->', ax)\n",
    "    l = 0\n",
    "    for st, et in zip(seq_list[:-1], seq_list[1:]):\n",
    "      connecta2a(st, et, eb)\n",
    "        \n",
    "  def draw(self):\n",
    "    with DynamicShow((10, 10), '_feed_forward.png') as d:\n",
    "        self.draw_ffnn(d.ax)\n",
    "        \n",
    "def sigmoid(x):\n",
    "    return round(1 / (1 + np.exp(-1*x)),0)\n",
    "\n",
    "def relu(x):\n",
    "    return np.maximum(0, x)\n",
    "\n",
    "def linear(x):\n",
    "    return x\n",
    "\n",
    "def softmax(x):\n",
    "    ex = np.exp(x)\n",
    "    return ex / np.sum(ex)\n",
    "\n",
    "func = {\n",
    "    \"sigmoid\" : sigmoid,\n",
    "    \"relu\" : relu,\n",
    "    \"linear\" : linear,\n",
    "    \"softmax\" : softmax\n",
    "}\n"
   ]
  },
  {
   "cell_type": "code",
   "execution_count": null,
   "metadata": {
    "colab": {
     "base_uri": "https://localhost:8080/"
    },
    "id": "TqU_rVJ8TiVY",
    "outputId": "c633aa72-af87-4597-975e-a6f93298f5de"
   },
   "outputs": [
    {
     "name": "stdout",
     "output_type": "stream",
     "text": [
      "[0.0]\n",
      "[1.0]\n",
      "[1.0]\n",
      "[0.0]\n"
     ]
    }
   ],
   "source": [
    "filename = 'tes.txt'\n",
    "ff = FFNN()\n",
    "ff.readfile(filename)\n",
    "\n",
    "ff.input([1,1])\n",
    "print(str(ff.predict()))\n",
    "\n",
    "ff.input([0,1])\n",
    "print(str(ff.predict()))\n",
    "\n",
    "ff.input([1,0])\n",
    "print(str(ff.predict()))\n",
    "\n",
    "ff.input([0,0])\n",
    "print(str(ff.predict()))\n"
   ]
  },
  {
   "cell_type": "code",
   "execution_count": null,
   "metadata": {
    "colab": {
     "base_uri": "https://localhost:8080/",
     "height": 838
    },
    "id": "B93Ohwa-eAxf",
    "outputId": "778497cd-4375-43df-b200-4157617a71f5"
   },
   "outputs": [
    {
     "name": "stdout",
     "output_type": "stream",
     "text": [
      "[[, ], [20,20,-10, -20,-20,30], [20,20,-30]]\n",
      "[2, 2, 1]\n",
      "Press `c` to save figure to \"_feed_forward.png\", `Ctrl+d` to break >>\n",
      "> /usr/local/lib/python3.7/dist-packages/viznet/context.py(61)__exit__()\n",
      "-> plt.savefig(self.filename, dpi=300, transparent=True)\n",
      "(Pdb) c\n"
     ]
    },
    {
     "data": {
      "image/png": "[encoded data removed]",
      "text/plain": [
       "<Figure size 720x720 with 1 Axes>"
      ]
     },
     "metadata": {
      "needs_background": "light",
      "tags": []
     },
     "output_type": "display_data"
    }
   ],
   "source": [
    "ff.draw()"
   ]
  }
 ],
 "metadata": {
  "colab": {
   "collapsed_sections": [],
   "name": "TubesMLBagA.ipynb",
   "provenance": []
  },
  "kernelspec": {
   "display_name": "Python 3",
   "language": "python",
   "name": "python3"
  },
  "language_info": {
   "codemirror_mode": {
    "name": "ipython",
    "version": 3
   },
   "file_extension": ".py",
   "mimetype": "text/x-python",
   "name": "python",
   "nbconvert_exporter": "python",
   "pygments_lexer": "ipython3",
   "version": "3.7.1"
  }
 },
 "nbformat": 4,
 "nbformat_minor": 1
}
